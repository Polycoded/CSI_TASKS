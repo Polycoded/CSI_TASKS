{
 "cells": [
  {
   "cell_type": "markdown",
   "id": "7eb9d3ac-882c-4f6c-964e-c0de052feb46",
   "metadata": {},
   "source": [
    "## 📌 Step 1: Install & Import Required Libraries\n",
    "We'll use OpenCV, NumPy, Pandas, and Matplotlib for image processing and visualization.\n"
   ]
  },
  {
   "cell_type": "code",
   "execution_count": 2,
   "id": "528b963c-2734-404d-8346-b6f35064905a",
   "metadata": {},
   "outputs": [],
   "source": [
    "import os\n",
    "import cv2\n",
    "import numpy as np\n",
    "import pandas as pd\n",
    "import matplotlib.pyplot as plt\n",
    "from skimage.feature import hog\n",
    "from skimage import io, color\n",
    "\n",
    "# Ignore warnings for cleaner output\n",
    "import warnings\n",
    "warnings.filterwarnings(\"ignore\")\n"
   ]
  },
  {
   "cell_type": "markdown",
   "id": "56576008-3933-4feb-b3b9-5a9e76f74481",
   "metadata": {},
   "source": [
    "## 📌 Step 2: Load Dataset Paths\n",
    "We define the file paths for real and forged signatures.\n"
   ]
  },
  {
   "cell_type": "code",
   "execution_count": null,
   "id": "f4325ba8-7073-4234-8bf2-91a9bda5f39b",
   "metadata": {},
   "outputs": [],
   "source": [
    "# Set dataset directory\n",
    "DATASET_PATH = \"your_path_here\"  # Example: \"C:/Users/John/Downloads/CEDAR_Signature_Dataset\"\n",
    "\n",
    "# Define real and forged signature folders\n",
    "REAL_PATH = os.path.join(DATASET_PATH, \"full_org\")\n",
    "FORGED_PATH = os.path.join(DATASET_PATH, \"full_forg\")\n",
    "\n",
    "# Check if paths exist\n",
    "print(\"Real signatures found:\", len(os.listdir(REAL_PATH)))\n",
    "print(\"Forged signatures found:\", len(os.listdir(FORGED_PATH)))\n"
   ]
  },
  {
   "cell_type": "markdown",
   "id": "655b13a8-734b-4bf2-a4e0-392261b74743",
   "metadata": {},
   "source": [
    "# Signature Verification using Classical Machine Learning\n",
    "\n",
    "## **Objective**\n",
    "- Detect forged signatures using classical ML techniques.\n",
    "- Extract relevant numerical features from images.\n",
    "- Train and evaluate a binary classifier.\n",
    "\n",
    "## **Dataset Information**\n",
    "- **full_org/**: 1320 genuine signatures.\n",
    "- **full_forg/**: 1320 forged signatures.\n",
    "- **Total Writers**: 55\n",
    "\n",
    "## **Approach**\n",
    "1. Load the dataset.\n",
    "2. Preprocess the data.\n",
    "3. Train a model using Scikit-learn.\n",
    "4. Evaluate the model’s accuracy.\n",
    "\n",
    "---\n"
   ]
  },
  {
   "cell_type": "code",
   "execution_count": 1,
   "id": "027dc211-8e2e-4b49-8f85-a40ce4038914",
   "metadata": {},
   "outputs": [],
   "source": [
    "import numpy as np\n",
    "import pandas as pd\n",
    "import os\n",
    "import cv2\n",
    "import matplotlib.pyplot as plt\n",
    "from sklearn.model_selection import train_test_split\n",
    "from sklearn.linear_model import LogisticRegression\n",
    "from sklearn.metrics import accuracy_score, confusion_matrix, classification_report\n"
   ]
  },
  {
   "cell_type": "code",
   "execution_count": 2,
   "id": "5b0728a7-f44e-4674-af0f-3ea8040702b1",
   "metadata": {},
   "outputs": [
    {
     "name": "stdout",
     "output_type": "stream",
     "text": [
      "Total Genuine Signatures: 1320\n",
      "Total Forged Signatures: 1320\n"
     ]
    }
   ],
   "source": [
    "# Define the main dataset path\n",
    "DATASET_PATH = r\"C:\\Users\\johnp\\Downloads\\CSI\\signatures\"\n",
    "# Define paths for genuine and forged signatures\n",
    "ORG_PATH = os.path.join(DATASET_PATH, \"full_org\")\n",
    "FORG_PATH = os.path.join(DATASET_PATH, \"full_forg\")\n",
    "# Load file paths\n",
    "org_files = [os.path.join(ORG_PATH, f) for f in os.listdir(ORG_PATH) if f.endswith('.png')]\n",
    "forg_files = [os.path.join(FORG_PATH, f) for f in os.listdir(FORG_PATH) if f.endswith('.png')]\n",
    "print(\"Total Genuine Signatures:\", len(org_files))\n",
    "print(\"Total Forged Signatures:\", len(forg_files))"
   ]
  },
  {
   "cell_type": "code",
   "execution_count": 3,
   "id": "423b42a2-a521-47d6-9332-eee385778d5c",
   "metadata": {},
   "outputs": [
    {
     "name": "stdout",
     "output_type": "stream",
     "text": [
      "Dataset Shape: (2640, 4097)\n"
     ]
    }
   ],
   "source": [
    "# Function to preprocess images\n",
    "def preprocess_image(image_path):\n",
    "    img = cv2.imread(image_path, cv2.IMREAD_GRAYSCALE)  # Load as grayscale\n",
    "    img = cv2.resize(img, (64, 64))  # Resize for consistency\n",
    "    img = img.flatten()  # Convert to 1D array\n",
    "    return img\n",
    "\n",
    "# Process images\n",
    "org_data = [preprocess_image(f) for f in org_files]\n",
    "forg_data = [preprocess_image(f) for f in forg_files]\n",
    "\n",
    "# Convert to DataFrame\n",
    "df_org = pd.DataFrame(org_data)\n",
    "df_forg = pd.DataFrame(forg_data)\n",
    "\n",
    "# Add labels (1 = Genuine, 0 = Forged)\n",
    "df_org['label'] = 1\n",
    "df_forg['label'] = 0\n",
    "\n",
    "# Combine both datasets\n",
    "df = pd.concat([df_org, df_forg], ignore_index=True)\n",
    "print(\"Dataset Shape:\", df.shape)\n"
   ]
  },
  {
   "cell_type": "code",
   "execution_count": 4,
   "id": "3f2c47ed-0e5e-42f6-8e50-fb9490dae8e7",
   "metadata": {},
   "outputs": [
    {
     "name": "stdout",
     "output_type": "stream",
     "text": [
      "Training set size: (2112, 4096)\n",
      "Testing set size: (528, 4096)\n"
     ]
    }
   ],
   "source": [
    "# Separate features and labels\n",
    "X = df.drop(columns=['label'])\n",
    "y = df['label']\n",
    "\n",
    "# Split into training and testing sets\n",
    "X_train, X_test, y_train, y_test = train_test_split(X, y, test_size=0.2, random_state=42, stratify=y)\n",
    "\n",
    "print(\"Training set size:\", X_train.shape)\n",
    "print(\"Testing set size:\", X_test.shape)\n"
   ]
  },
  {
   "cell_type": "code",
   "execution_count": 5,
   "id": "2f78154b-83ec-4265-94ea-6ccc5b10e9e5",
   "metadata": {},
   "outputs": [
    {
     "name": "stdout",
     "output_type": "stream",
     "text": [
      "Model Accuracy: 0.7840909090909091\n"
     ]
    }
   ],
   "source": [
    "# Train model\n",
    "model = LogisticRegression(max_iter=1000)\n",
    "model.fit(X_train, y_train)\n",
    "\n",
    "# Make predictions\n",
    "y_pred = model.predict(X_test)\n",
    "\n",
    "# Accuracy\n",
    "accuracy = accuracy_score(y_test, y_pred)\n",
    "print(\"Model Accuracy:\", accuracy)\n"
   ]
  },
  {
   "cell_type": "code",
   "execution_count": 6,
   "id": "0e7d1b8c-9543-44eb-b825-b7d65243d790",
   "metadata": {},
   "outputs": [
    {
     "name": "stdout",
     "output_type": "stream",
     "text": [
      "Confusion Matrix:\n",
      " [[202  62]\n",
      " [ 52 212]]\n",
      "Classification Report:\n",
      "               precision    recall  f1-score   support\n",
      "\n",
      "           0       0.80      0.77      0.78       264\n",
      "           1       0.77      0.80      0.79       264\n",
      "\n",
      "    accuracy                           0.78       528\n",
      "   macro avg       0.78      0.78      0.78       528\n",
      "weighted avg       0.78      0.78      0.78       528\n",
      "\n"
     ]
    }
   ],
   "source": [
    "# Confusion Matrix\n",
    "conf_matrix = confusion_matrix(y_test, y_pred)\n",
    "print(\"Confusion Matrix:\\n\", conf_matrix)\n",
    "\n",
    "# Classification Report\n",
    "print(\"Classification Report:\\n\", classification_report(y_test, y_pred))\n"
   ]
  },
  {
   "cell_type": "markdown",
   "id": "5f8360ba-e552-42dd-9b75-db2ecf791210",
   "metadata": {},
   "source": [
    "---\n",
    "## **Done by John Poly**\n"
   ]
  },
  {
   "cell_type": "code",
   "execution_count": null,
   "id": "3b4fa307-f9e7-41ee-9940-fe63b8d9c710",
   "metadata": {},
   "outputs": [],
   "source": []
  }
 ],
 "metadata": {
  "kernelspec": {
   "display_name": "Python 3 (ipykernel)",
   "language": "python",
   "name": "python3"
  },
  "language_info": {
   "codemirror_mode": {
    "name": "ipython",
    "version": 3
   },
   "file_extension": ".py",
   "mimetype": "text/x-python",
   "name": "python",
   "nbconvert_exporter": "python",
   "pygments_lexer": "ipython3",
   "version": "3.13.0"
  }
 },
 "nbformat": 4,
 "nbformat_minor": 5
}
