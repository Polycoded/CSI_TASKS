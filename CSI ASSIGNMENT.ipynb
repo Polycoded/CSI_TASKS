{
 "cells": [
  {
   "cell_type": "markdown",
   "id": "832859ed-3d0e-42ab-80f6-dea2e4c075b7",
   "metadata": {},
   "source": [
    "# 🔍 Signature Verification using Classical ML\n",
    "## Vault 17 Forensic AI Division (V17FAD)\n",
    "\n",
    "**Objective:**  \n",
    "- Detect forged signatures using classical machine learning techniques.\n",
    "- Extract meaningful features from real and forged signatures.\n",
    "- Train and evaluate a binary classifier for high accuracy.\n",
    "\n",
    "**Dataset:** [CEDAR Signature Dataset](https://www.kaggle.com/datasets/shreelakshmigp/cedardataset/data)\n"
   ]
  },
  {
   "cell_type": "markdown",
   "id": "7eb9d3ac-882c-4f6c-964e-c0de052feb46",
   "metadata": {},
   "source": [
    "## 📌 Step 1: Install & Import Required Libraries\n",
    "We'll use OpenCV, NumPy, Pandas, and Matplotlib for image processing and visualization.\n"
   ]
  },
  {
   "cell_type": "code",
   "execution_count": 2,
   "id": "528b963c-2734-404d-8346-b6f35064905a",
   "metadata": {},
   "outputs": [],
   "source": [
    "import os\n",
    "import cv2\n",
    "import numpy as np\n",
    "import pandas as pd\n",
    "import matplotlib.pyplot as plt\n",
    "from skimage.feature import hog\n",
    "from skimage import io, color\n",
    "\n",
    "# Ignore warnings for cleaner output\n",
    "import warnings\n",
    "warnings.filterwarnings(\"ignore\")\n"
   ]
  },
  {
   "cell_type": "markdown",
   "id": "56576008-3933-4feb-b3b9-5a9e76f74481",
   "metadata": {},
   "source": [
    "## 📌 Step 2: Load Dataset Paths\n",
    "We define the file paths for real and forged signatures.\n"
   ]
  },
  {
   "cell_type": "code",
   "execution_count": null,
   "id": "f4325ba8-7073-4234-8bf2-91a9bda5f39b",
   "metadata": {},
   "outputs": [],
   "source": [
    "# Set dataset directory\n",
    "DATASET_PATH = \"your_path_here\"  # Example: \"C:/Users/John/Downloads/CEDAR_Signature_Dataset\"\n",
    "\n",
    "# Define real and forged signature folders\n",
    "REAL_PATH = os.path.join(DATASET_PATH, \"full_org\")\n",
    "FORGED_PATH = os.path.join(DATASET_PATH, \"full_forg\")\n",
    "\n",
    "# Check if paths exist\n",
    "print(\"Real signatures found:\", len(os.listdir(REAL_PATH)))\n",
    "print(\"Forged signatures found:\", len(os.listdir(FORGED_PATH)))\n"
   ]
  }
 ],
 "metadata": {
  "kernelspec": {
   "display_name": "Python 3 (ipykernel)",
   "language": "python",
   "name": "python3"
  },
  "language_info": {
   "codemirror_mode": {
    "name": "ipython",
    "version": 3
   },
   "file_extension": ".py",
   "mimetype": "text/x-python",
   "name": "python",
   "nbconvert_exporter": "python",
   "pygments_lexer": "ipython3",
   "version": "3.13.0"
  }
 },
 "nbformat": 4,
 "nbformat_minor": 5
}
